{
  "cells": [
    {
      "cell_type": "markdown",
      "metadata": {
        "id": "view-in-github",
        "colab_type": "text"
      },
      "source": [
        "<a href=\"https://colab.research.google.com/github/TitikshaLaad/ExtionInternshipProjects/blob/main/Copy_of_Untitled1.ipynb\" target=\"_parent\"><img src=\"https://colab.research.google.com/assets/colab-badge.svg\" alt=\"Open In Colab\"/></a>"
      ]
    },
    {
      "cell_type": "code",
      "execution_count": 65,
      "metadata": {
        "id": "psS3A4QWSiNY"
      },
      "outputs": [],
      "source": [
        "import numpy as np\n",
        "import nltk\n",
        "import string\n",
        "import random\n"
      ]
    },
    {
      "cell_type": "markdown",
      "metadata": {
        "id": "2xImICPhXuib"
      },
      "source": [
        "#Reading the Corpus of Text\n"
      ]
    },
    {
      "cell_type": "code",
      "execution_count": 66,
      "metadata": {
        "id": "7pSGaNfeWACC"
      },
      "outputs": [],
      "source": [
        "f = open('/content/Extion 3.txt', 'r',errors='ignore')\n",
        "raw_doc = f.read()\n"
      ]
    },
    {
      "cell_type": "code",
      "execution_count": 67,
      "metadata": {
        "colab": {
          "base_uri": "https://localhost:8080/",
          "height": 140
        },
        "id": "HXqRZoplX7gR",
        "outputId": "2c6f079a-ae03-43d9-b923-40e26aeef3a1"
      },
      "outputs": [
        {
          "output_type": "execute_result",
          "data": {
            "text/plain": [
              "'Extion Infotech:\\nExtion Infotech is an educational and technology solutions company focused on bridging the gap between academic learning and industry needs. It offers a wide range of virtual training and internship programs in technical domains like Artificial Intelligence, Data Science, and Cybersecurity, as well as management fields such as Project Management and Business Analytics. These programs are designed to equip students with hands-on experience and skills that are directly applicable to the workforce.\\n\\nThe company has successfully certified over 10,000 students, demonstrating its commitment to empowering the next generation of professionals. Extion Infotech emphasizes personalized learning, offering custom paths to ensure students’ success. Their programs are supported by a team of experienced instructors and utilize industry-relevant curriculum to meet the demands of today’s competitive job market\\u200b.\\n\\nExtion Infotech offers a variety of internships across several domains, providing comprehensive exposure to different technologies and skill sets. \\nHere are the key internships they provide:Web and App Development,Cybersecurity,Artificial Intelligence (AI),UI/UX Design,Marketing,Human Resources.\\n1. **Web and App Development Internship** – Focuses on building robust web and mobile applications using the latest frameworks and technologies.\\n2. **Cybersecurity** – This internship Provides hands-on experience in securing systems, networks, and data from cyber threats.\\n3. **Cloud Computing** – Offers opportunities to work on cloud platforms, learning about cloud infrastructure, management, and deployment.\\n4. **Artificial Intelligence (AI)** – Involves working with AI technologies, including machine learning, natural language processing, and AI-based applications.\\n5. **UI/UX Design** – Interns learn to design intuitive and user-friendly interfaces, improving user experience for applications and websites.\\n6. **Marketing** – Focuses on digital marketing strategies, SEO, content creation, and social media management.\\n7. **Human Resources** – Provides exposure to HR functions like talent acquisition, employee engagement, and administrative support.\\n\\nYes we offer web development internship.\\n\\n'"
            ],
            "application/vnd.google.colaboratory.intrinsic+json": {
              "type": "string"
            }
          },
          "metadata": {},
          "execution_count": 67
        }
      ],
      "source": [
        "raw_doc"
      ]
    },
    {
      "cell_type": "code",
      "execution_count": 68,
      "metadata": {
        "colab": {
          "base_uri": "https://localhost:8080/"
        },
        "id": "1KX0bfu8XGYL",
        "outputId": "dd7435fd-d656-47ef-b5e6-02bb73ef498c"
      },
      "outputs": [
        {
          "output_type": "stream",
          "name": "stderr",
          "text": [
            "[nltk_data] Downloading package punkt to /root/nltk_data...\n",
            "[nltk_data]   Package punkt is already up-to-date!\n",
            "[nltk_data] Downloading package wordnet to /root/nltk_data...\n",
            "[nltk_data]   Package wordnet is already up-to-date!\n",
            "[nltk_data] Downloading package omw-1.4 to /root/nltk_data...\n",
            "[nltk_data]   Package omw-1.4 is already up-to-date!\n"
          ]
        },
        {
          "output_type": "execute_result",
          "data": {
            "text/plain": [
              "True"
            ]
          },
          "metadata": {},
          "execution_count": 68
        }
      ],
      "source": [
        "raw_doc = raw_doc.lower()#Converting entire text to lowercase\n",
        "nltk.download('punkt') #Using the Punkt tokenizer\n",
        "nltk.download('wordnet') #Using the wordnet dictionary\n",
        "nltk.download('omw-1.4')\n",
        "\n",
        "\n",
        "#"
      ]
    },
    {
      "cell_type": "code",
      "execution_count": 69,
      "metadata": {
        "colab": {
          "base_uri": "https://localhost:8080/",
          "height": 140
        },
        "id": "mkPm8dhRYds4",
        "outputId": "1c49d19a-12c8-4971-a004-8ee2d283a367"
      },
      "outputs": [
        {
          "output_type": "execute_result",
          "data": {
            "text/plain": [
              "'extion infotech:\\nextion infotech is an educational and technology solutions company focused on bridging the gap between academic learning and industry needs. it offers a wide range of virtual training and internship programs in technical domains like artificial intelligence, data science, and cybersecurity, as well as management fields such as project management and business analytics. these programs are designed to equip students with hands-on experience and skills that are directly applicable to the workforce.\\n\\nthe company has successfully certified over 10,000 students, demonstrating its commitment to empowering the next generation of professionals. extion infotech emphasizes personalized learning, offering custom paths to ensure students’ success. their programs are supported by a team of experienced instructors and utilize industry-relevant curriculum to meet the demands of today’s competitive job market\\u200b.\\n\\nextion infotech offers a variety of internships across several domains, providing comprehensive exposure to different technologies and skill sets. \\nhere are the key internships they provide:web and app development,cybersecurity,artificial intelligence (ai),ui/ux design,marketing,human resources.\\n1. **web and app development internship** – focuses on building robust web and mobile applications using the latest frameworks and technologies.\\n2. **cybersecurity** – this internship provides hands-on experience in securing systems, networks, and data from cyber threats.\\n3. **cloud computing** – offers opportunities to work on cloud platforms, learning about cloud infrastructure, management, and deployment.\\n4. **artificial intelligence (ai)** – involves working with ai technologies, including machine learning, natural language processing, and ai-based applications.\\n5. **ui/ux design** – interns learn to design intuitive and user-friendly interfaces, improving user experience for applications and websites.\\n6. **marketing** – focuses on digital marketing strategies, seo, content creation, and social media management.\\n7. **human resources** – provides exposure to hr functions like talent acquisition, employee engagement, and administrative support.\\n\\nyes we offer web development internship.\\n\\n'"
            ],
            "application/vnd.google.colaboratory.intrinsic+json": {
              "type": "string"
            }
          },
          "metadata": {},
          "execution_count": 69
        }
      ],
      "source": [
        "raw_doc\n"
      ]
    },
    {
      "cell_type": "code",
      "execution_count": 70,
      "metadata": {
        "id": "VTEKR06TXmGq"
      },
      "outputs": [],
      "source": [
        "sentence_tokens = nltk.sent_tokenize(raw_doc)\n",
        "word_tokens = nltk.word_tokenize(raw_doc)"
      ]
    },
    {
      "cell_type": "markdown",
      "metadata": {
        "id": "o2A-5dTcYryA"
      },
      "source": [
        "After Tokenization"
      ]
    },
    {
      "cell_type": "code",
      "execution_count": 71,
      "metadata": {
        "colab": {
          "base_uri": "https://localhost:8080/"
        },
        "id": "YSdIWhr3YnO8",
        "outputId": "e6b0d7b5-9b2d-49da-d0e7-fde656deb885"
      },
      "outputs": [
        {
          "output_type": "execute_result",
          "data": {
            "text/plain": [
              "['extion infotech:\\nextion infotech is an educational and technology solutions company focused on bridging the gap between academic learning and industry needs.',\n",
              " 'it offers a wide range of virtual training and internship programs in technical domains like artificial intelligence, data science, and cybersecurity, as well as management fields such as project management and business analytics.',\n",
              " 'these programs are designed to equip students with hands-on experience and skills that are directly applicable to the workforce.',\n",
              " 'the company has successfully certified over 10,000 students, demonstrating its commitment to empowering the next generation of professionals.',\n",
              " 'extion infotech emphasizes personalized learning, offering custom paths to ensure students’ success.']"
            ]
          },
          "metadata": {},
          "execution_count": 71
        }
      ],
      "source": [
        "sentence_tokens[:5]"
      ]
    },
    {
      "cell_type": "code",
      "execution_count": 72,
      "metadata": {
        "colab": {
          "base_uri": "https://localhost:8080/"
        },
        "id": "bJyQ_TAjY13s",
        "outputId": "3c387aca-cfae-4c46-d055-d2a4354c331c"
      },
      "outputs": [
        {
          "output_type": "execute_result",
          "data": {
            "text/plain": [
              "['extion', 'infotech', ':', 'extion', 'infotech']"
            ]
          },
          "metadata": {},
          "execution_count": 72
        }
      ],
      "source": [
        "word_tokens[:5]"
      ]
    },
    {
      "cell_type": "markdown",
      "metadata": {
        "id": "NQPukbFZZIVC"
      },
      "source": [
        "Performing Text-PreProcessing Steps"
      ]
    },
    {
      "cell_type": "code",
      "execution_count": 73,
      "metadata": {
        "id": "jVZGSvbCZGVl"
      },
      "outputs": [],
      "source": [
        "lemmer = nltk.stem.WordNetLemmatizer()\n",
        "def LemTokens(tokens):\n",
        "  return [lemmer.lemmatize(token) for token in tokens]\n",
        "remove_punct_dict = dict((ord(punct), None) for punct in string.punctuation)\n",
        "def LemNormalize(text):\n",
        "  return LemTokens(nltk.word_tokenize(text.lower().translate(remove_punct_dict)))\n"
      ]
    },
    {
      "cell_type": "markdown",
      "metadata": {
        "id": "wXF7RxNiZfRA"
      },
      "source": [
        "Define Greeting Functions"
      ]
    },
    {
      "cell_type": "code",
      "execution_count": 74,
      "metadata": {
        "id": "ogSv-96WZjin"
      },
      "outputs": [],
      "source": [
        "greet_inputs = (\"hello\", \"hi\", \"greetings\", \"sup\", \"what's up\", \"hey\",\"how are you?\")\n",
        "greet_responses = [\"hi\", \"hey\", \"*nods*\", \"hi there\", \"hello\", \"I am glad! You are talking to me\"]\n",
        "def greet(sentence):\n",
        "  for word in sentence.split():\n",
        "    if word.lower() in greet_inputs:\n",
        "      return random.choice(greet_responses)\n"
      ]
    },
    {
      "cell_type": "code",
      "execution_count": 75,
      "metadata": {
        "id": "BMQUQkr5i5e4"
      },
      "outputs": [],
      "source": [
        "from sklearn.feature_extraction.text import TfidfVectorizer\n",
        "from sklearn.metrics.pairwise import cosine_similarity"
      ]
    },
    {
      "cell_type": "code",
      "execution_count": 76,
      "metadata": {
        "id": "X8NvARZ-i-s2"
      },
      "outputs": [],
      "source": [
        "def response(user_response):\n",
        "  robo1_response = ''\n",
        "  TfidfVec = TfidfVectorizer(tokenizer=LemNormalize, stop_words='english')\n",
        "  tfidf = TfidfVec.fit_transform(sentence_tokens)\n",
        "  vals = cosine_similarity(tfidf[-1], tfidf)\n",
        "  idx = vals.argsort()[0][-2]\n",
        "  flat = vals.flatten()\n",
        "  flat.sort()\n",
        "  req_tfidf = flat[-2]\n",
        "  if(req_tfidf == 0):\n",
        "    robo1_response = robo1_response + \"I am sorry! I don't understand you\"\n",
        "    return robo1_response\n",
        "  else:\n",
        "    robo1_response = robo1_response + sentence_tokens[idx]\n",
        "    return robo1_response\n",
        "\n"
      ]
    },
    {
      "cell_type": "markdown",
      "metadata": {
        "id": "ElDUve6EkLY3"
      },
      "source": [
        "Defining the ChatFlow"
      ]
    },
    {
      "cell_type": "code",
      "execution_count": 77,
      "metadata": {
        "colab": {
          "base_uri": "https://localhost:8080/"
        },
        "id": "MiJJMvqpkO-V",
        "outputId": "c1e3183d-d4e4-4d90-f75f-305a0be31076"
      },
      "outputs": [
        {
          "output_type": "stream",
          "name": "stdout",
          "text": [
            "Hello I am Customer support bot of Extion Infotech.\n",
            "hi\n",
            "Bot :hi there\n",
            "what is extion infotech\n",
            "Bot: extion infotech:\n",
            "extion infotech is an educational and technology solutions company focused on bridging the gap between academic learning and industry needs.\n",
            "what are the key internships offered by you\n",
            "Bot: here are the key internships they provide:web and app development,cybersecurity,artificial intelligence (ai),ui/ux design,marketing,human resources.\n",
            "do you offer web development internship\n",
            "Bot: yes we offer web development internship.\n",
            "tell me moe about web development\n",
            "Bot: yes we offer web development internship.\n",
            "what is AI\n",
            "Bot: **artificial intelligence (ai)** – involves working with ai technologies, including machine learning, natural language processing, and ai-based applications.\n",
            "thanks\n",
            "EXTENTION: You are welcome..\n"
          ]
        }
      ],
      "source": [
        "flag =True\n",
        "print(\"Hello I am Customer support bot of Extion Infotech.\")\n",
        "while (flag == True):\n",
        "  user_response = input()\n",
        "  user_response = user_response.lower()\n",
        "  if(user_response != 'bye'):\n",
        "    if(user_response == 'thanks' or user_response == 'thank you'):\n",
        "      flag = False\n",
        "      print(\"EXTENTION: You are welcome..\")\n",
        "    else:\n",
        "      if (greet(user_response) != None):\n",
        "        print('Bot :'+ greet(user_response))\n",
        "      else:\n",
        "        sentence_tokens.append(user_response)\n",
        "        work_tokens = word_tokens + nltk.word_tokenize(user_response)\n",
        "        final_words = list(set(word_tokens))\n",
        "        print('Bot: ',end='')\n",
        "        print(response(user_response))\n",
        "        sentence_tokens.remove(user_response)\n",
        "  else:\n",
        "    flag = False\n",
        "    print('Bot: Goodbye!')\n",
        "\n",
        "\n",
        "\n"
      ]
    }
  ],
  "metadata": {
    "colab": {
      "provenance": [],
      "mount_file_id": "16UreP7MKEZJoElt-Fem0ns8f86nW1kNv",
      "authorship_tag": "ABX9TyM3J7ZvF3LrE2uZ933rxkjZ",
      "include_colab_link": true
    },
    "kernelspec": {
      "display_name": "Python 3",
      "name": "python3"
    },
    "language_info": {
      "name": "python"
    }
  },
  "nbformat": 4,
  "nbformat_minor": 0
}